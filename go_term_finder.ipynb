{
 "cells": [
  {
   "cell_type": "code",
   "execution_count": 2,
   "metadata": {
    "collapsed": true
   },
   "outputs": [],
   "source": [
    "import requests\n",
    "import json\n",
    "#input file\n",
    "fileIn = open(\"interpro_hits.txt\",'r')\n",
    "interpro_lines = fileIn.readlines()"
   ]
  },
  {
   "cell_type": "code",
   "execution_count": null,
   "metadata": {
    "collapsed": true
   },
   "outputs": [],
   "source": [
    "#file to output the go_hits\n",
    "fileOut = open(\"go_hits.txt\",'w') "
   ]
  },
  {
   "cell_type": "code",
   "execution_count": null,
   "metadata": {
    "collapsed": true
   },
   "outputs": [],
   "source": [
    "counter = 1\n",
    "no_repeat_hits = []\n",
    "go_terms_hits = []\n",
    "for each in interpro_lines:\n",
    "    #outputs the current protein working on\n",
    "    print(\"Currently: \"+ str(counter))\n",
    "    counter+=1\n",
    "    hits = each.strip().replace(\",\",\"/\").split(\"/\")\n",
    "    already_done_hits = []\n",
    "    go_per_line = []\n",
    "    for each_hit in hits:\n",
    "        #if no hits found, output no hits\n",
    "        if each_hit == \"No interpro Hit\":\n",
    "            go_per_line.append(\"No hits found\")\n",
    "            fileOut.write(\"No hits found\" +\"\\n\")\n",
    "        else:\n",
    "            #checks if the hit has been already reported for this line\n",
    "            if(each_hit not in already_done_hits):\n",
    "                #retrives the data from the website\n",
    "                link = \"https://www.ebi.ac.uk/QuickGO/services/ontology/go/terms/%s/complete\" % each_hit\n",
    "                response = requests.get(link)\n",
    "                data = response.json()\n",
    "                go_per_line.append(each_hit+\"-\"+(data[\"results\"][0][\"name\"]))\n",
    "                already_done_hits.append(each_hit)\n",
    "                go_terms_hits.append((data[\"results\"][0][\"name\"]))\n",
    "    #writes to file\n",
    "    fileOut.write(\",\".join(go_per_line)+\"\\n\")\n",
    "    no_repeat_hits.append(\",\".join(go_per_line)+\"\\n\")\n",
    "print(\"====Done====\")\n",
    "    \n",
    "    \n",
    "            \n",
    "            "
   ]
  },
  {
   "cell_type": "code",
   "execution_count": 90,
   "metadata": {},
   "outputs": [
    {
     "name": "stdout",
     "output_type": "stream",
     "text": [
      "No hits found\n",
      "GO:0005515-protein binding\n",
      "No hits found\n",
      "GO:0004602-glutathione peroxidase activity,GO:0006979-response to oxidative stress,GO:0055114-oxidation-reduction process\n",
      "No hits found\n",
      "GO:0016020-membrane,GO:0016021-integral component of membrane\n",
      "GO:0016020-membrane,GO:0016021-integral component of membrane\n",
      "No hits found\n",
      "No hits found\n",
      "GO:0003677-DNA binding,GO:0006355-regulation of transcription, DNA-templated\n",
      "No hits found\n",
      "GO:0016020-membrane,GO:0016021-integral component of membrane\n",
      "No hits found\n",
      "GO:0016491-oxidoreductase activity,GO:0055114-oxidation-reduction process,GO:0051287-NAD binding,GO:0004616-phosphogluconate dehydrogenase (decarboxylating) activity\n",
      "No hits found\n",
      "GO:0016021-integral component of membrane\n",
      "No hits found\n",
      "GO:0003677-DNA binding,GO:0004803-transposase activity,GO:0006313-transposition, DNA-mediated\n",
      "No hits found\n",
      "GO:0015074-DNA integration,GO:0003676-nucleic acid binding\n",
      "GO:0003824-catalytic activity,GO:0003864-3-methyl-2-oxobutanoate hydroxymethyltransferase activity,GO:0015940-pantothenate biosynthetic process\n",
      "GO:0003864-3-methyl-2-oxobutanoate hydroxymethyltransferase activity,GO:0015940-pantothenate biosynthetic process,GO:0003824-catalytic activity\n",
      "No hits found\n",
      "No hits found\n",
      "No hits found\n",
      "GO:0045454-cell redox homeostasis,GO:0006662-glycerol ether metabolic process,GO:0015035-protein disulfide oxidoreductase activity\n",
      "GO:0000166-nucleotide binding,GO:0005524-ATP binding,GO:0005737-cytoplasm,GO:0008033-tRNA processing,GO:0016879-ligase activity, forming carbon-nitrogen bonds\n",
      "No hits found\n",
      "GO:0005524-ATP binding,GO:0006355-regulation of transcription, DNA-templated,GO:0008134-transcription factor binding,GO:0043565-sequence-specific DNA binding,GO:0003677-DNA binding\n",
      "GO:0005524-ATP binding,GO:0006355-regulation of transcription, DNA-templated,GO:0008134-transcription factor binding\n",
      "GO:0000160-phosphorelay signal transduction system\n",
      "No hits found\n",
      "No hits found\n",
      "GO:0004056-argininosuccinate lyase activity,GO:0042450-arginine biosynthetic process via ornithine,GO:0003824-catalytic activity\n",
      "No hits found\n",
      "No hits found\n",
      "GO:0003677-DNA binding,GO:0006355-regulation of transcription, DNA-templated\n",
      "GO:0003677-DNA binding,GO:0005622-intracellular,GO:0006355-regulation of transcription, DNA-templated\n",
      "No hits found\n",
      "GO:0003735-structural constituent of ribosome,GO:0005622-intracellular,GO:0005840-ribosome,GO:0006412-translation\n",
      "GO:0003676-nucleic acid binding,GO:0004518-nuclease activity\n",
      "GO:0046914-transition metal ion binding\n",
      "GO:0005525-GTP binding,GO:0015093-ferrous iron transmembrane transporter activity,GO:0015684-ferrous iron transport,GO:0016021-integral component of membrane\n",
      "No hits found\n",
      "GO:0003677-DNA binding,GO:0006355-regulation of transcription, DNA-templated\n",
      "GO:0016787-hydrolase activity\n",
      "No hits found\n",
      "GO:0008654-phospholipid biosynthetic process,GO:0016020-membrane,GO:0016780-phosphotransferase activity, for other substituted phosphate groups,GO:0008444-CDP-diacylglycerol-glycerol-3-phosphate 3-phosphatidyltransferase activity,GO:0016021-integral component of membrane\n",
      "No hits found\n",
      "No hits found\n",
      "No hits found\n",
      "GO:0030255-protein secretion by the type IV secretion system\n",
      "GO:0015103-inorganic anion transmembrane transporter activity,GO:0015297-antiporter activity,GO:0016021-integral component of membrane,GO:0016020-membrane\n",
      "No hits found\n",
      "GO:0003677-DNA binding,GO:0004803-transposase activity,GO:0006313-transposition, DNA-mediated\n",
      "GO:0003677-DNA binding,GO:0004803-transposase activity,GO:0006313-transposition, DNA-mediated\n",
      "GO:0003677-DNA binding,GO:0004803-transposase activity,GO:0006313-transposition, DNA-mediated\n",
      "No hits found\n",
      "No hits found\n",
      "No hits found\n",
      "GO:0006508-proteolysis,GO:0008233-peptidase activity\n",
      "No hits found\n",
      "GO:0016787-hydrolase activity\n",
      "GO:0005507-copper ion binding,GO:0006878-cellular copper ion homeostasis,GO:0009279-cell outer membrane\n",
      "GO:0008168-methyltransferase activity\n",
      "No hits found\n",
      "No hits found\n",
      "GO:0005524-ATP binding\n",
      "GO:0005524-ATP binding,GO:0016787-hydrolase activity,GO:0003677-DNA binding,GO:0004003-ATP-dependent DNA helicase activity,GO:0006281-DNA repair,GO:0008854-exodeoxyribonuclease V activity\n",
      "No hits found\n",
      "GO:0003735-structural constituent of ribosome,GO:0005840-ribosome,GO:0006412-translation,GO:0005622-intracellular\n",
      "No hits found\n",
      "GO:0002143-tRNA wobble position uridine thiolation,GO:0097163-sulfur carrier activity\n",
      "No hits found\n",
      "GO:0003677-DNA binding\n",
      "No hits found\n",
      "No hits found\n",
      "No hits found\n",
      "GO:0016651-oxidoreductase activity, acting on NAD(P)H,GO:0055114-oxidation-reduction process,GO:0008137-NADH dehydrogenase (ubiquinone) activity\n",
      "GO:0003677-DNA binding,GO:0006310-DNA recombination,GO:0015074-DNA integration\n",
      "GO:0016491-oxidoreductase activity\n",
      "No hits found\n",
      "GO:0008270-zinc ion binding,GO:0006355-regulation of transcription, DNA-templated\n",
      "No hits found\n",
      "GO:0008152-metabolic process,GO:0016846-carbon-sulfur lyase activity\n",
      "No hits found\n",
      "GO:0003735-structural constituent of ribosome,GO:0005622-intracellular,GO:0005840-ribosome,GO:0006412-translation\n",
      "GO:0003824-catalytic activity,GO:0008152-metabolic process\n",
      "GO:0003676-nucleic acid binding,GO:0003677-DNA binding,GO:0006355-regulation of transcription, DNA-templated\n",
      "No hits found\n",
      "No hits found\n",
      "GO:0003700-DNA-binding transcription factor activity,GO:0006355-regulation of transcription, DNA-templated\n",
      "GO:0003861-3-isopropylmalate dehydratase activity,GO:0009098-leucine biosynthetic process,GO:0009316-3-isopropylmalate dehydratase complex,GO:0008152-metabolic process\n",
      "No hits found\n",
      "GO:0003743-translation initiation factor activity,GO:0006413-translational initiation,GO:0003723-RNA binding\n",
      "GO:0005737-cytoplasm,GO:0008652-cellular amino acid biosynthetic process,GO:0016620-oxidoreductase activity, acting on the aldehyde or oxo group of donors, NAD or NADP as acceptor,GO:0046983-protein dimerization activity,GO:0004073-aspartate-semialdehyde dehydrogenase activity,GO:0009086-methionine biosynthetic process,GO:0009088-threonine biosynthetic process,GO:0009089-lysine biosynthetic process via diaminopimelate,GO:0009097-isoleucine biosynthetic process,GO:0050661-NADP binding,GO:0055114-oxidation-reduction process,GO:0051287-NAD binding,GO:0006520-cellular amino acid metabolic process\n",
      "No hits found\n",
      "No hits found\n",
      "GO:0016020-membrane,GO:0022857-transmembrane transporter activity,GO:0055085-transmembrane transport\n",
      "GO:0016020-membrane,GO:0022857-transmembrane transporter activity,GO:0055085-transmembrane transport\n"
     ]
    }
   ],
   "source": [
    "for i in no_repeat_hits:\n",
    "    print(i.strip())"
   ]
  },
  {
   "cell_type": "code",
   "execution_count": null,
   "metadata": {
    "collapsed": true
   },
   "outputs": [],
   "source": [
    "for i in go_terms_hits:\n",
    "    print (i)"
   ]
  },
  {
   "cell_type": "code",
   "execution_count": 68,
   "metadata": {
    "collapsed": true
   },
   "outputs": [],
   "source": [
    "from collections import Counter"
   ]
  }
 ],
 "metadata": {
  "kernelspec": {
   "display_name": "Python 3",
   "language": "python",
   "name": "python3"
  },
  "language_info": {
   "codemirror_mode": {
    "name": "ipython",
    "version": 3
   },
   "file_extension": ".py",
   "mimetype": "text/x-python",
   "name": "python",
   "nbconvert_exporter": "python",
   "pygments_lexer": "ipython3",
   "version": "3.6.1"
  }
 },
 "nbformat": 4,
 "nbformat_minor": 2
}
